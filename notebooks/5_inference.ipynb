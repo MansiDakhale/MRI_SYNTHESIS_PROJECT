{
 "cells": [
  {
   "cell_type": "code",
   "execution_count": 1,
   "id": "ba9b6be3",
   "metadata": {},
   "outputs": [
    {
     "ename": "KeyboardInterrupt",
     "evalue": "",
     "output_type": "error",
     "traceback": [
      "\u001b[31m---------------------------------------------------------------------------\u001b[39m",
      "\u001b[31mKeyboardInterrupt\u001b[39m                         Traceback (most recent call last)",
      "\u001b[36mCell\u001b[39m\u001b[36m \u001b[39m\u001b[32mIn[1]\u001b[39m\u001b[32m, line 8\u001b[39m\n\u001b[32m      5\u001b[39m project_root = \u001b[33mr\u001b[39m\u001b[33m\"\u001b[39m\u001b[33mC:\u001b[39m\u001b[33m\\\u001b[39m\u001b[33mUsers\u001b[39m\u001b[33m\\\u001b[39m\u001b[33mOMEN\u001b[39m\u001b[33m\\\u001b[39m\u001b[33mDesktop\u001b[39m\u001b[33m\\\u001b[39m\u001b[33mMRI_Synthesis_Project\u001b[39m\u001b[33m\\\u001b[39m\u001b[33mMRI_SYNTHESIS_PROJECT\u001b[39m\u001b[33m\"\u001b[39m\n\u001b[32m      6\u001b[39m sys.path.append(project_root)\n\u001b[32m----> \u001b[39m\u001b[32m8\u001b[39m \u001b[38;5;28;01mfrom\u001b[39;00m\u001b[38;5;250m \u001b[39m\u001b[34;01msrc\u001b[39;00m\u001b[34;01m.\u001b[39;00m\u001b[34;01mUnet3D_model\u001b[39;00m\u001b[38;5;250m \u001b[39m\u001b[38;5;28;01mimport\u001b[39;00m UNet3D\n",
      "\u001b[36mFile \u001b[39m\u001b[32m~\\Desktop\\MRI_Synthesis_Project\\MRI_SYNTHESIS_PROJECT\\src\\Unet3D_model.py:1\u001b[39m\n\u001b[32m----> \u001b[39m\u001b[32m1\u001b[39m \u001b[38;5;28;01mimport\u001b[39;00m\u001b[38;5;250m \u001b[39m\u001b[34;01mtorch\u001b[39;00m\n\u001b[32m      2\u001b[39m \u001b[38;5;28;01mimport\u001b[39;00m\u001b[38;5;250m \u001b[39m\u001b[34;01mtorch\u001b[39;00m\u001b[34;01m.\u001b[39;00m\u001b[34;01mnn\u001b[39;00m\u001b[38;5;250m \u001b[39m\u001b[38;5;28;01mas\u001b[39;00m\u001b[38;5;250m \u001b[39m\u001b[34;01mnn\u001b[39;00m\n\u001b[32m      3\u001b[39m \u001b[38;5;28;01mimport\u001b[39;00m\u001b[38;5;250m \u001b[39m\u001b[34;01mtorch\u001b[39;00m\u001b[34;01m.\u001b[39;00m\u001b[34;01mnn\u001b[39;00m\u001b[34;01m.\u001b[39;00m\u001b[34;01mfunctional\u001b[39;00m\u001b[38;5;250m \u001b[39m\u001b[38;5;28;01mas\u001b[39;00m\u001b[38;5;250m \u001b[39m\u001b[34;01mF\u001b[39;00m\n",
      "\u001b[36mFile \u001b[39m\u001b[32mc:\\Users\\OMEN\\Desktop\\MRI_Synthesis_Project\\MRI_SYNTHESIS_PROJECT\\gpu_env\\Lib\\site-packages\\torch\\__init__.py:270\u001b[39m\n\u001b[32m    266\u001b[39m                     \u001b[38;5;28;01mraise\u001b[39;00m err\n\u001b[32m    268\u001b[39m         kernel32.SetErrorMode(prev_error_mode)\n\u001b[32m--> \u001b[39m\u001b[32m270\u001b[39m     \u001b[43m_load_dll_libraries\u001b[49m\u001b[43m(\u001b[49m\u001b[43m)\u001b[49m\n\u001b[32m    271\u001b[39m     \u001b[38;5;28;01mdel\u001b[39;00m _load_dll_libraries\n\u001b[32m    274\u001b[39m \u001b[38;5;28;01mdef\u001b[39;00m\u001b[38;5;250m \u001b[39m\u001b[34m_get_cuda_dep_paths\u001b[39m(path: \u001b[38;5;28mstr\u001b[39m, lib_folder: \u001b[38;5;28mstr\u001b[39m, lib_name: \u001b[38;5;28mstr\u001b[39m) -> \u001b[38;5;28mlist\u001b[39m[\u001b[38;5;28mstr\u001b[39m]:\n\u001b[32m    275\u001b[39m     \u001b[38;5;66;03m# Libraries can either be in path/nvidia/lib_folder/lib or path/lib_folder/lib\u001b[39;00m\n",
      "\u001b[36mFile \u001b[39m\u001b[32mc:\\Users\\OMEN\\Desktop\\MRI_Synthesis_Project\\MRI_SYNTHESIS_PROJECT\\gpu_env\\Lib\\site-packages\\torch\\__init__.py:246\u001b[39m, in \u001b[36m_load_dll_libraries\u001b[39m\u001b[34m()\u001b[39m\n\u001b[32m    244\u001b[39m is_loaded = \u001b[38;5;28;01mFalse\u001b[39;00m\n\u001b[32m    245\u001b[39m \u001b[38;5;28;01mif\u001b[39;00m with_load_library_flags:\n\u001b[32m--> \u001b[39m\u001b[32m246\u001b[39m     res = \u001b[43mkernel32\u001b[49m\u001b[43m.\u001b[49m\u001b[43mLoadLibraryExW\u001b[49m\u001b[43m(\u001b[49m\u001b[43mdll\u001b[49m\u001b[43m,\u001b[49m\u001b[43m \u001b[49m\u001b[38;5;28;43;01mNone\u001b[39;49;00m\u001b[43m,\u001b[49m\u001b[43m \u001b[49m\u001b[32;43m0x00001100\u001b[39;49m\u001b[43m)\u001b[49m\n\u001b[32m    247\u001b[39m     last_error = ctypes.get_last_error()\n\u001b[32m    248\u001b[39m     \u001b[38;5;28;01mif\u001b[39;00m res \u001b[38;5;129;01mis\u001b[39;00m \u001b[38;5;28;01mNone\u001b[39;00m \u001b[38;5;129;01mand\u001b[39;00m last_error != \u001b[32m126\u001b[39m:\n",
      "\u001b[31mKeyboardInterrupt\u001b[39m: "
     ]
    }
   ],
   "source": [
    "import sys\n",
    "import os\n",
    "\n",
    "# Add project root (modify path to match your actual folder structure)\n",
    "project_root = r\"C:\\Users\\OMEN\\Desktop\\MRI_Synthesis_Project\\MRI_SYNTHESIS_PROJECT\"\n",
    "sys.path.append(project_root)\n",
    "\n",
    "from src.Unet3D_model import UNet3D\n"
   ]
  },
  {
   "cell_type": "code",
   "execution_count": 2,
   "id": "af462274",
   "metadata": {},
   "outputs": [],
   "source": [
    "import importlib\n",
    "import src.Unet3D_model\n",
    "importlib.reload(src.Unet3D_model)\n",
    "from src.Unet3D_model import UNet3D\n"
   ]
  },
  {
   "cell_type": "code",
   "execution_count": 3,
   "id": "b9b99871",
   "metadata": {},
   "outputs": [
    {
     "name": "stdout",
     "output_type": "stream",
     "text": [
      "<function UNet3D.__init__ at 0x000001FAC7BADB20>\n"
     ]
    }
   ],
   "source": [
    "print(UNet3D.__init__)\n"
   ]
  },
  {
   "cell_type": "code",
   "execution_count": 4,
   "id": "26df6569",
   "metadata": {},
   "outputs": [],
   "source": [
    "import torch\n",
    "import nibabel as nib\n",
    "import numpy as np\n",
    "import os\n",
    "from pathlib import Path\n",
    "from tqdm import tqdm\n",
    "from src.Unet3D_model import UNet3D\n"
   ]
  },
  {
   "cell_type": "code",
   "execution_count": 5,
   "id": "19ec0e71",
   "metadata": {},
   "outputs": [],
   "source": [
    "# === Paths ===\n",
    "train_root = Path(r\"C:\\Users\\OMEN\\Desktop\\MRI_Synthesis_Project\\MRI_SYNTHESIS_PROJECT\\data\\Resized_dataset\\train_resized\")\n",
    "output_root = Path(r\"C:\\Users\\OMEN\\Desktop\\MRI_Synthesis_Project\\MRI_SYNTHESIS_PROJECT\\data\\Predicted_Masks_PreT1\")\n",
    "checkpoint_path = Path(r\"C:\\Users\\OMEN\\Desktop\\MRI_Synthesis_Project\\MRI_SYNTHESIS_PROJECT\\notebooks\\best_unet3d.pth\")"
   ]
  },
  {
   "cell_type": "code",
   "execution_count": 6,
   "id": "73f1865a",
   "metadata": {},
   "outputs": [
    {
     "ename": "RuntimeError",
     "evalue": "Error(s) in loading state_dict for UNet3D:\n\tMissing key(s) in state_dict: \"enc1.0.weight\", \"enc1.0.bias\", \"enc1.2.weight\", \"enc1.2.bias\", \"enc2.0.weight\", \"enc2.0.bias\", \"enc2.2.weight\", \"enc2.2.bias\", \"bottleneck.0.weight\", \"bottleneck.0.bias\", \"bottleneck.2.weight\", \"bottleneck.2.bias\", \"dec2.0.weight\", \"dec2.0.bias\", \"dec2.2.weight\", \"dec2.2.bias\", \"dec1.0.weight\", \"dec1.0.bias\", \"dec1.2.weight\", \"dec1.2.bias\". \n\tUnexpected key(s) in state_dict: \"enc1.block.0.weight\", \"enc1.block.0.bias\", \"enc1.block.1.weight\", \"enc1.block.1.bias\", \"enc1.block.1.running_mean\", \"enc1.block.1.running_var\", \"enc1.block.1.num_batches_tracked\", \"enc1.block.3.weight\", \"enc1.block.3.bias\", \"enc1.block.4.weight\", \"enc1.block.4.bias\", \"enc1.block.4.running_mean\", \"enc1.block.4.running_var\", \"enc1.block.4.num_batches_tracked\", \"enc2.block.0.weight\", \"enc2.block.0.bias\", \"enc2.block.1.weight\", \"enc2.block.1.bias\", \"enc2.block.1.running_mean\", \"enc2.block.1.running_var\", \"enc2.block.1.num_batches_tracked\", \"enc2.block.3.weight\", \"enc2.block.3.bias\", \"enc2.block.4.weight\", \"enc2.block.4.bias\", \"enc2.block.4.running_mean\", \"enc2.block.4.running_var\", \"enc2.block.4.num_batches_tracked\", \"bottleneck.block.0.weight\", \"bottleneck.block.0.bias\", \"bottleneck.block.1.weight\", \"bottleneck.block.1.bias\", \"bottleneck.block.1.running_mean\", \"bottleneck.block.1.running_var\", \"bottleneck.block.1.num_batches_tracked\", \"bottleneck.block.3.weight\", \"bottleneck.block.3.bias\", \"bottleneck.block.4.weight\", \"bottleneck.block.4.bias\", \"bottleneck.block.4.running_mean\", \"bottleneck.block.4.running_var\", \"bottleneck.block.4.num_batches_tracked\", \"dec2.block.0.weight\", \"dec2.block.0.bias\", \"dec2.block.1.weight\", \"dec2.block.1.bias\", \"dec2.block.1.running_mean\", \"dec2.block.1.running_var\", \"dec2.block.1.num_batches_tracked\", \"dec2.block.3.weight\", \"dec2.block.3.bias\", \"dec2.block.4.weight\", \"dec2.block.4.bias\", \"dec2.block.4.running_mean\", \"dec2.block.4.running_var\", \"dec2.block.4.num_batches_tracked\", \"dec1.block.0.weight\", \"dec1.block.0.bias\", \"dec1.block.1.weight\", \"dec1.block.1.bias\", \"dec1.block.1.running_mean\", \"dec1.block.1.running_var\", \"dec1.block.1.num_batches_tracked\", \"dec1.block.3.weight\", \"dec1.block.3.bias\", \"dec1.block.4.weight\", \"dec1.block.4.bias\", \"dec1.block.4.running_mean\", \"dec1.block.4.running_var\", \"dec1.block.4.num_batches_tracked\". \n\tsize mismatch for up2.weight: copying a param with shape torch.Size([128, 64, 2, 2, 2]) from checkpoint, the shape in current model is torch.Size([64, 32, 2, 2, 2]).\n\tsize mismatch for up2.bias: copying a param with shape torch.Size([64]) from checkpoint, the shape in current model is torch.Size([32]).\n\tsize mismatch for up1.weight: copying a param with shape torch.Size([64, 32, 2, 2, 2]) from checkpoint, the shape in current model is torch.Size([32, 16, 2, 2, 2]).\n\tsize mismatch for up1.bias: copying a param with shape torch.Size([32]) from checkpoint, the shape in current model is torch.Size([16]).\n\tsize mismatch for out.weight: copying a param with shape torch.Size([1, 32, 1, 1, 1]) from checkpoint, the shape in current model is torch.Size([1, 16, 1, 1, 1]).",
     "output_type": "error",
     "traceback": [
      "\u001b[31m---------------------------------------------------------------------------\u001b[39m",
      "\u001b[31mRuntimeError\u001b[39m                              Traceback (most recent call last)",
      "\u001b[36mCell\u001b[39m\u001b[36m \u001b[39m\u001b[32mIn[6]\u001b[39m\u001b[32m, line 4\u001b[39m\n\u001b[32m      2\u001b[39m device = torch.device(\u001b[33m\"\u001b[39m\u001b[33mcuda\u001b[39m\u001b[33m\"\u001b[39m \u001b[38;5;28;01mif\u001b[39;00m torch.cuda.is_available() \u001b[38;5;28;01melse\u001b[39;00m \u001b[33m\"\u001b[39m\u001b[33mcpu\u001b[39m\u001b[33m\"\u001b[39m)\n\u001b[32m      3\u001b[39m model = UNet3D(in_channels=\u001b[32m1\u001b[39m, out_channels=\u001b[32m1\u001b[39m).to(device)\n\u001b[32m----> \u001b[39m\u001b[32m4\u001b[39m \u001b[43mmodel\u001b[49m\u001b[43m.\u001b[49m\u001b[43mload_state_dict\u001b[49m\u001b[43m(\u001b[49m\u001b[43mtorch\u001b[49m\u001b[43m.\u001b[49m\u001b[43mload\u001b[49m\u001b[43m(\u001b[49m\u001b[43mcheckpoint_path\u001b[49m\u001b[43m,\u001b[49m\u001b[43m \u001b[49m\u001b[43mmap_location\u001b[49m\u001b[43m=\u001b[49m\u001b[43mdevice\u001b[49m\u001b[43m)\u001b[49m\u001b[43m)\u001b[49m\n\u001b[32m      5\u001b[39m model.eval()\n",
      "\u001b[36mFile \u001b[39m\u001b[32mc:\\Users\\OMEN\\Desktop\\MRI_Synthesis_Project\\MRI_SYNTHESIS_PROJECT\\gpu_env\\Lib\\site-packages\\torch\\nn\\modules\\module.py:2593\u001b[39m, in \u001b[36mModule.load_state_dict\u001b[39m\u001b[34m(self, state_dict, strict, assign)\u001b[39m\n\u001b[32m   2585\u001b[39m         error_msgs.insert(\n\u001b[32m   2586\u001b[39m             \u001b[32m0\u001b[39m,\n\u001b[32m   2587\u001b[39m             \u001b[33m\"\u001b[39m\u001b[33mMissing key(s) in state_dict: \u001b[39m\u001b[38;5;132;01m{}\u001b[39;00m\u001b[33m. \u001b[39m\u001b[33m\"\u001b[39m.format(\n\u001b[32m   2588\u001b[39m                 \u001b[33m\"\u001b[39m\u001b[33m, \u001b[39m\u001b[33m\"\u001b[39m.join(\u001b[33mf\u001b[39m\u001b[33m'\u001b[39m\u001b[33m\"\u001b[39m\u001b[38;5;132;01m{\u001b[39;00mk\u001b[38;5;132;01m}\u001b[39;00m\u001b[33m\"\u001b[39m\u001b[33m'\u001b[39m \u001b[38;5;28;01mfor\u001b[39;00m k \u001b[38;5;129;01min\u001b[39;00m missing_keys)\n\u001b[32m   2589\u001b[39m             ),\n\u001b[32m   2590\u001b[39m         )\n\u001b[32m   2592\u001b[39m \u001b[38;5;28;01mif\u001b[39;00m \u001b[38;5;28mlen\u001b[39m(error_msgs) > \u001b[32m0\u001b[39m:\n\u001b[32m-> \u001b[39m\u001b[32m2593\u001b[39m     \u001b[38;5;28;01mraise\u001b[39;00m \u001b[38;5;167;01mRuntimeError\u001b[39;00m(\n\u001b[32m   2594\u001b[39m         \u001b[33m\"\u001b[39m\u001b[33mError(s) in loading state_dict for \u001b[39m\u001b[38;5;132;01m{}\u001b[39;00m\u001b[33m:\u001b[39m\u001b[38;5;130;01m\\n\u001b[39;00m\u001b[38;5;130;01m\\t\u001b[39;00m\u001b[38;5;132;01m{}\u001b[39;00m\u001b[33m\"\u001b[39m.format(\n\u001b[32m   2595\u001b[39m             \u001b[38;5;28mself\u001b[39m.\u001b[34m__class__\u001b[39m.\u001b[34m__name__\u001b[39m, \u001b[33m\"\u001b[39m\u001b[38;5;130;01m\\n\u001b[39;00m\u001b[38;5;130;01m\\t\u001b[39;00m\u001b[33m\"\u001b[39m.join(error_msgs)\n\u001b[32m   2596\u001b[39m         )\n\u001b[32m   2597\u001b[39m     )\n\u001b[32m   2598\u001b[39m \u001b[38;5;28;01mreturn\u001b[39;00m _IncompatibleKeys(missing_keys, unexpected_keys)\n",
      "\u001b[31mRuntimeError\u001b[39m: Error(s) in loading state_dict for UNet3D:\n\tMissing key(s) in state_dict: \"enc1.0.weight\", \"enc1.0.bias\", \"enc1.2.weight\", \"enc1.2.bias\", \"enc2.0.weight\", \"enc2.0.bias\", \"enc2.2.weight\", \"enc2.2.bias\", \"bottleneck.0.weight\", \"bottleneck.0.bias\", \"bottleneck.2.weight\", \"bottleneck.2.bias\", \"dec2.0.weight\", \"dec2.0.bias\", \"dec2.2.weight\", \"dec2.2.bias\", \"dec1.0.weight\", \"dec1.0.bias\", \"dec1.2.weight\", \"dec1.2.bias\". \n\tUnexpected key(s) in state_dict: \"enc1.block.0.weight\", \"enc1.block.0.bias\", \"enc1.block.1.weight\", \"enc1.block.1.bias\", \"enc1.block.1.running_mean\", \"enc1.block.1.running_var\", \"enc1.block.1.num_batches_tracked\", \"enc1.block.3.weight\", \"enc1.block.3.bias\", \"enc1.block.4.weight\", \"enc1.block.4.bias\", \"enc1.block.4.running_mean\", \"enc1.block.4.running_var\", \"enc1.block.4.num_batches_tracked\", \"enc2.block.0.weight\", \"enc2.block.0.bias\", \"enc2.block.1.weight\", \"enc2.block.1.bias\", \"enc2.block.1.running_mean\", \"enc2.block.1.running_var\", \"enc2.block.1.num_batches_tracked\", \"enc2.block.3.weight\", \"enc2.block.3.bias\", \"enc2.block.4.weight\", \"enc2.block.4.bias\", \"enc2.block.4.running_mean\", \"enc2.block.4.running_var\", \"enc2.block.4.num_batches_tracked\", \"bottleneck.block.0.weight\", \"bottleneck.block.0.bias\", \"bottleneck.block.1.weight\", \"bottleneck.block.1.bias\", \"bottleneck.block.1.running_mean\", \"bottleneck.block.1.running_var\", \"bottleneck.block.1.num_batches_tracked\", \"bottleneck.block.3.weight\", \"bottleneck.block.3.bias\", \"bottleneck.block.4.weight\", \"bottleneck.block.4.bias\", \"bottleneck.block.4.running_mean\", \"bottleneck.block.4.running_var\", \"bottleneck.block.4.num_batches_tracked\", \"dec2.block.0.weight\", \"dec2.block.0.bias\", \"dec2.block.1.weight\", \"dec2.block.1.bias\", \"dec2.block.1.running_mean\", \"dec2.block.1.running_var\", \"dec2.block.1.num_batches_tracked\", \"dec2.block.3.weight\", \"dec2.block.3.bias\", \"dec2.block.4.weight\", \"dec2.block.4.bias\", \"dec2.block.4.running_mean\", \"dec2.block.4.running_var\", \"dec2.block.4.num_batches_tracked\", \"dec1.block.0.weight\", \"dec1.block.0.bias\", \"dec1.block.1.weight\", \"dec1.block.1.bias\", \"dec1.block.1.running_mean\", \"dec1.block.1.running_var\", \"dec1.block.1.num_batches_tracked\", \"dec1.block.3.weight\", \"dec1.block.3.bias\", \"dec1.block.4.weight\", \"dec1.block.4.bias\", \"dec1.block.4.running_mean\", \"dec1.block.4.running_var\", \"dec1.block.4.num_batches_tracked\". \n\tsize mismatch for up2.weight: copying a param with shape torch.Size([128, 64, 2, 2, 2]) from checkpoint, the shape in current model is torch.Size([64, 32, 2, 2, 2]).\n\tsize mismatch for up2.bias: copying a param with shape torch.Size([64]) from checkpoint, the shape in current model is torch.Size([32]).\n\tsize mismatch for up1.weight: copying a param with shape torch.Size([64, 32, 2, 2, 2]) from checkpoint, the shape in current model is torch.Size([32, 16, 2, 2, 2]).\n\tsize mismatch for up1.bias: copying a param with shape torch.Size([32]) from checkpoint, the shape in current model is torch.Size([16]).\n\tsize mismatch for out.weight: copying a param with shape torch.Size([1, 32, 1, 1, 1]) from checkpoint, the shape in current model is torch.Size([1, 16, 1, 1, 1])."
     ]
    }
   ],
   "source": [
    "# === Model Setup ===\n",
    "device = torch.device(\"cuda\" if torch.cuda.is_available() else \"cpu\")\n",
    "model = UNet3D(in_channels=1, out_channels=1).to(device)\n",
    "model.load_state_dict(torch.load(checkpoint_path, map_location=device))\n",
    "model.eval()"
   ]
  },
  {
   "cell_type": "code",
   "execution_count": null,
   "id": "787acfd7",
   "metadata": {},
   "outputs": [],
   "source": []
  }
 ],
 "metadata": {
  "kernelspec": {
   "display_name": "gpu_env",
   "language": "python",
   "name": "python3"
  },
  "language_info": {
   "codemirror_mode": {
    "name": "ipython",
    "version": 3
   },
   "file_extension": ".py",
   "mimetype": "text/x-python",
   "name": "python",
   "nbconvert_exporter": "python",
   "pygments_lexer": "ipython3",
   "version": "3.12.7"
  }
 },
 "nbformat": 4,
 "nbformat_minor": 5
}
