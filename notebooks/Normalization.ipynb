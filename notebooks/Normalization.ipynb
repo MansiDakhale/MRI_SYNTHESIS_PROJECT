{
 "cells": [
  {
   "cell_type": "code",
   "execution_count": 3,
   "id": "2da977d0",
   "metadata": {},
   "outputs": [
    {
     "name": "stdout",
     "output_type": "stream",
     "text": [
      "📂 Processing train_clean -> train_norm\n"
     ]
    },
    {
     "name": "stderr",
     "output_type": "stream",
     "text": [
      "  0%|          | 0/55 [00:00<?, ?it/s]"
     ]
    },
    {
     "name": "stderr",
     "output_type": "stream",
     "text": [
      "100%|██████████| 55/55 [03:53<00:00,  4.24s/it]\n"
     ]
    },
    {
     "name": "stdout",
     "output_type": "stream",
     "text": [
      "📂 Processing val_clean -> val_norm\n"
     ]
    },
    {
     "name": "stderr",
     "output_type": "stream",
     "text": [
      "100%|██████████| 48/48 [00:59<00:00,  1.23s/it]\n"
     ]
    },
    {
     "name": "stdout",
     "output_type": "stream",
     "text": [
      "📂 Processing test_clean -> test_norm\n"
     ]
    },
    {
     "name": "stderr",
     "output_type": "stream",
     "text": [
      "100%|██████████| 55/55 [01:26<00:00,  1.57s/it]"
     ]
    },
    {
     "name": "stdout",
     "output_type": "stream",
     "text": [
      "✅ Normalization complete. Normalized data saved in *_norm.nii.gz format.\n"
     ]
    },
    {
     "name": "stderr",
     "output_type": "stream",
     "text": [
      "\n"
     ]
    }
   ],
   "source": [
    "# normalize_nifti_volumes.ipynb\n",
    "\n",
    "import os\n",
    "import nibabel as nib\n",
    "import numpy as np\n",
    "from tqdm import tqdm\n",
    "import shutil\n",
    "\n",
    "# Set your source and target directories\n",
    "base_dir = r'C:\\Users\\OMEN\\Desktop\\MRI_Synthesis_Project\\MRI_SYNTHESIS_PROJECT\\data\\dataset'\n",
    "input_dirs = ['train_clean', 'val_clean', 'test_clean']\n",
    "output_dirs = ['train_norm', 'val_norm', 'test_norm']\n",
    "\n",
    "modalities_to_normalize = ['PreT1', 'CeT1']\n",
    "\n",
    "# Function to normalize image to [0, 1]\n",
    "def min_max_normalize(volume):\n",
    "    min_val = np.min(volume)\n",
    "    max_val = np.max(volume)\n",
    "    if max_val - min_val == 0:\n",
    "        return np.zeros_like(volume)\n",
    "    return (volume - min_val) / (max_val - min_val)\n",
    "\n",
    "# Function to process a single subject folder\n",
    "def process_subject(src_subject_path, dst_subject_path):\n",
    "    for modality in os.listdir(src_subject_path):\n",
    "        modality_path = os.path.join(src_subject_path, modality)\n",
    "        if not os.path.isdir(modality_path):\n",
    "            continue\n",
    "        \n",
    "        dst_modality_path = os.path.join(dst_subject_path, modality)\n",
    "        os.makedirs(dst_modality_path, exist_ok=True)\n",
    "\n",
    "        for file in os.listdir(modality_path):\n",
    "            if not file.endswith(\".nii.gz\"):\n",
    "                continue\n",
    "\n",
    "            src_file_path = os.path.join(modality_path, file)\n",
    "            img = nib.load(src_file_path)\n",
    "            data = img.get_fdata()\n",
    "\n",
    "            if modality in modalities_to_normalize:\n",
    "                norm_data = min_max_normalize(data)\n",
    "                norm_img = nib.Nifti1Image(norm_data, affine=img.affine, header=img.header)\n",
    "                norm_filename = file.replace(\".nii.gz\", \"_norm.nii.gz\")\n",
    "                nib.save(norm_img, os.path.join(dst_modality_path, norm_filename))\n",
    "            else:\n",
    "                # Copy non-normalized modalities (e.g., Segmentation) as-is\n",
    "                shutil.copy2(src_file_path, os.path.join(dst_modality_path, file))\n",
    "\n",
    "# Process all directories\n",
    "for input_dir, output_dir in zip(input_dirs, output_dirs):\n",
    "    src_path = os.path.join(base_dir, input_dir)\n",
    "    dst_path = os.path.join(base_dir, output_dir)\n",
    "    os.makedirs(dst_path, exist_ok=True)\n",
    "\n",
    "    print(f\"📂 Processing {input_dir} -> {output_dir}\")\n",
    "    for subject in tqdm(os.listdir(src_path)):\n",
    "        subject_src_path = os.path.join(src_path, subject)\n",
    "        subject_dst_path = os.path.join(dst_path, subject)\n",
    "        os.makedirs(subject_dst_path, exist_ok=True)\n",
    "\n",
    "        process_subject(subject_src_path, subject_dst_path)\n",
    "\n",
    "print(\"✅ Normalization complete. Normalized data saved in *_norm.nii.gz format.\")\n"
   ]
  }
 ],
 "metadata": {
  "kernelspec": {
   "display_name": "gpu_env",
   "language": "python",
   "name": "python3"
  },
  "language_info": {
   "codemirror_mode": {
    "name": "ipython",
    "version": 3
   },
   "file_extension": ".py",
   "mimetype": "text/x-python",
   "name": "python",
   "nbconvert_exporter": "python",
   "pygments_lexer": "ipython3",
   "version": "3.12.7"
  }
 },
 "nbformat": 4,
 "nbformat_minor": 5
}
