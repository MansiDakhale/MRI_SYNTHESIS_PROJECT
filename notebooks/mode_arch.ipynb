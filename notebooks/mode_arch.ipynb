{
 "cells": [
  {
   "cell_type": "code",
   "execution_count": 1,
   "metadata": {},
   "outputs": [
    {
     "name": "stdout",
     "output_type": "stream",
     "text": [
      "Collecting torchio\n",
      "  Downloading torchio-0.20.8-py3-none-any.whl.metadata (50 kB)\n",
      "Collecting deprecated>=1.2 (from torchio)\n",
      "  Using cached Deprecated-1.2.18-py2.py3-none-any.whl.metadata (5.7 kB)\n",
      "Collecting einops>=0.3 (from torchio)\n",
      "  Downloading einops-0.8.1-py3-none-any.whl.metadata (13 kB)\n",
      "Collecting humanize>=0.1 (from torchio)\n",
      "  Downloading humanize-4.12.3-py3-none-any.whl.metadata (7.8 kB)\n",
      "Requirement already satisfied: nibabel>=3 in c:\\users\\omen\\desktop\\mri_synthesis_project\\mri_synthesis_project\\gpu_env\\lib\\site-packages (from torchio) (5.3.2)\n",
      "Requirement already satisfied: numpy>=1.20 in c:\\users\\omen\\desktop\\mri_synthesis_project\\mri_synthesis_project\\gpu_env\\lib\\site-packages (from torchio) (2.1.3)\n",
      "Requirement already satisfied: packaging>=20 in c:\\users\\omen\\desktop\\mri_synthesis_project\\mri_synthesis_project\\gpu_env\\lib\\site-packages (from torchio) (25.0)\n",
      "Requirement already satisfied: rich>=10 in c:\\users\\omen\\desktop\\mri_synthesis_project\\mri_synthesis_project\\gpu_env\\lib\\site-packages (from torchio) (14.0.0)\n",
      "Collecting scipy>=1.7 (from torchio)\n",
      "  Downloading scipy-1.15.2-cp312-cp312-win_amd64.whl.metadata (60 kB)\n",
      "Collecting simpleitk!=2.0.*,!=2.1.1.1,>=1.3 (from torchio)\n",
      "  Downloading simpleitk-2.5.0-cp311-abi3-win_amd64.whl.metadata (7.3 kB)\n",
      "Requirement already satisfied: torch>=1.9 in c:\\users\\omen\\desktop\\mri_synthesis_project\\mri_synthesis_project\\gpu_env\\lib\\site-packages (from torchio) (2.7.0+cu118)\n",
      "Requirement already satisfied: tqdm>=4.40 in c:\\users\\omen\\desktop\\mri_synthesis_project\\mri_synthesis_project\\gpu_env\\lib\\site-packages (from torchio) (4.67.1)\n",
      "Collecting typer>=0.1 (from torchio)\n",
      "  Downloading typer-0.15.3-py3-none-any.whl.metadata (15 kB)\n",
      "Requirement already satisfied: wrapt<2,>=1.10 in c:\\users\\omen\\desktop\\mri_synthesis_project\\mri_synthesis_project\\gpu_env\\lib\\site-packages (from deprecated>=1.2->torchio) (1.17.2)\n",
      "Requirement already satisfied: typing-extensions>=4.6 in c:\\users\\omen\\desktop\\mri_synthesis_project\\mri_synthesis_project\\gpu_env\\lib\\site-packages (from nibabel>=3->torchio) (4.13.2)\n",
      "Requirement already satisfied: markdown-it-py>=2.2.0 in c:\\users\\omen\\desktop\\mri_synthesis_project\\mri_synthesis_project\\gpu_env\\lib\\site-packages (from rich>=10->torchio) (3.0.0)\n",
      "Requirement already satisfied: pygments<3.0.0,>=2.13.0 in c:\\users\\omen\\desktop\\mri_synthesis_project\\mri_synthesis_project\\gpu_env\\lib\\site-packages (from rich>=10->torchio) (2.19.1)\n",
      "Requirement already satisfied: mdurl~=0.1 in c:\\users\\omen\\desktop\\mri_synthesis_project\\mri_synthesis_project\\gpu_env\\lib\\site-packages (from markdown-it-py>=2.2.0->rich>=10->torchio) (0.1.2)\n",
      "Requirement already satisfied: filelock in c:\\users\\omen\\desktop\\mri_synthesis_project\\mri_synthesis_project\\gpu_env\\lib\\site-packages (from torch>=1.9->torchio) (3.18.0)\n",
      "Requirement already satisfied: sympy>=1.13.3 in c:\\users\\omen\\desktop\\mri_synthesis_project\\mri_synthesis_project\\gpu_env\\lib\\site-packages (from torch>=1.9->torchio) (1.14.0)\n",
      "Requirement already satisfied: networkx in c:\\users\\omen\\desktop\\mri_synthesis_project\\mri_synthesis_project\\gpu_env\\lib\\site-packages (from torch>=1.9->torchio) (3.4.2)\n",
      "Requirement already satisfied: jinja2 in c:\\users\\omen\\desktop\\mri_synthesis_project\\mri_synthesis_project\\gpu_env\\lib\\site-packages (from torch>=1.9->torchio) (3.1.6)\n",
      "Requirement already satisfied: fsspec in c:\\users\\omen\\desktop\\mri_synthesis_project\\mri_synthesis_project\\gpu_env\\lib\\site-packages (from torch>=1.9->torchio) (2025.3.2)\n",
      "Requirement already satisfied: setuptools in c:\\users\\omen\\desktop\\mri_synthesis_project\\mri_synthesis_project\\gpu_env\\lib\\site-packages (from torch>=1.9->torchio) (80.3.0)\n",
      "Requirement already satisfied: mpmath<1.4,>=1.1.0 in c:\\users\\omen\\desktop\\mri_synthesis_project\\mri_synthesis_project\\gpu_env\\lib\\site-packages (from sympy>=1.13.3->torch>=1.9->torchio) (1.3.0)\n",
      "Requirement already satisfied: colorama in c:\\users\\omen\\desktop\\mri_synthesis_project\\mri_synthesis_project\\gpu_env\\lib\\site-packages (from tqdm>=4.40->torchio) (0.4.6)\n",
      "Collecting click>=8.0.0 (from typer>=0.1->torchio)\n",
      "  Using cached click-8.1.8-py3-none-any.whl.metadata (2.3 kB)\n",
      "Collecting shellingham>=1.3.0 (from typer>=0.1->torchio)\n",
      "  Using cached shellingham-1.5.4-py2.py3-none-any.whl.metadata (3.5 kB)\n",
      "Requirement already satisfied: MarkupSafe>=2.0 in c:\\users\\omen\\desktop\\mri_synthesis_project\\mri_synthesis_project\\gpu_env\\lib\\site-packages (from jinja2->torch>=1.9->torchio) (3.0.2)\n",
      "Downloading torchio-0.20.8-py3-none-any.whl (177 kB)\n",
      "Using cached Deprecated-1.2.18-py2.py3-none-any.whl (10.0 kB)\n",
      "Downloading einops-0.8.1-py3-none-any.whl (64 kB)\n",
      "Downloading humanize-4.12.3-py3-none-any.whl (128 kB)\n",
      "Downloading scipy-1.15.2-cp312-cp312-win_amd64.whl (40.9 MB)\n",
      "   ---------------------------------------- 0.0/40.9 MB ? eta -:--:--\n",
      "   ------- -------------------------------- 8.1/40.9 MB 42.1 MB/s eta 0:00:01\n",
      "   ---------------- ----------------------- 17.0/40.9 MB 43.0 MB/s eta 0:00:01\n",
      "   -------------------------- ------------- 27.3/40.9 MB 44.3 MB/s eta 0:00:01\n",
      "   --------------------------------- ------ 34.3/40.9 MB 42.0 MB/s eta 0:00:01\n",
      "   ---------------------------------------  40.9/40.9 MB 42.6 MB/s eta 0:00:01\n",
      "   ---------------------------------------- 40.9/40.9 MB 38.9 MB/s eta 0:00:00\n",
      "Downloading simpleitk-2.5.0-cp311-abi3-win_amd64.whl (18.8 MB)\n",
      "   ---------------------------------------- 0.0/18.8 MB ? eta -:--:--\n",
      "   --------------- ------------------------ 7.1/18.8 MB 36.4 MB/s eta 0:00:01\n",
      "   --------------------------------- ------ 15.7/18.8 MB 43.1 MB/s eta 0:00:01\n",
      "   ---------------------------------------  18.6/18.8 MB 31.7 MB/s eta 0:00:01\n",
      "   ---------------------------------------- 18.8/18.8 MB 29.0 MB/s eta 0:00:00\n",
      "Downloading typer-0.15.3-py3-none-any.whl (45 kB)\n",
      "Using cached click-8.1.8-py3-none-any.whl (98 kB)\n",
      "Using cached shellingham-1.5.4-py2.py3-none-any.whl (9.8 kB)\n",
      "Installing collected packages: simpleitk, shellingham, scipy, humanize, einops, deprecated, click, typer, torchio\n",
      "\n",
      "   ---------------------------------------- 0/9 [simpleitk]\n",
      "   ---------------------------------------- 0/9 [simpleitk]\n",
      "   ---------------------------------------- 0/9 [simpleitk]\n",
      "   -------- ------------------------------- 2/9 [scipy]\n",
      "   -------- ------------------------------- 2/9 [scipy]\n",
      "   -------- ------------------------------- 2/9 [scipy]\n",
      "   -------- ------------------------------- 2/9 [scipy]\n",
      "   -------- ------------------------------- 2/9 [scipy]\n",
      "   -------- ------------------------------- 2/9 [scipy]\n",
      "   -------- ------------------------------- 2/9 [scipy]\n",
      "   -------- ------------------------------- 2/9 [scipy]\n",
      "   -------- ------------------------------- 2/9 [scipy]\n",
      "   -------- ------------------------------- 2/9 [scipy]\n",
      "   -------- ------------------------------- 2/9 [scipy]\n",
      "   -------- ------------------------------- 2/9 [scipy]\n",
      "   -------- ------------------------------- 2/9 [scipy]\n",
      "   -------- ------------------------------- 2/9 [scipy]\n",
      "   -------- ------------------------------- 2/9 [scipy]\n",
      "   -------- ------------------------------- 2/9 [scipy]\n",
      "   -------- ------------------------------- 2/9 [scipy]\n",
      "   -------- ------------------------------- 2/9 [scipy]\n",
      "   -------- ------------------------------- 2/9 [scipy]\n",
      "   -------- ------------------------------- 2/9 [scipy]\n",
      "   -------- ------------------------------- 2/9 [scipy]\n",
      "   -------- ------------------------------- 2/9 [scipy]\n",
      "   -------- ------------------------------- 2/9 [scipy]\n",
      "   -------- ------------------------------- 2/9 [scipy]\n",
      "   -------- ------------------------------- 2/9 [scipy]\n",
      "   -------- ------------------------------- 2/9 [scipy]\n",
      "   -------- ------------------------------- 2/9 [scipy]\n",
      "   -------- ------------------------------- 2/9 [scipy]\n",
      "   -------- ------------------------------- 2/9 [scipy]\n",
      "   -------- ------------------------------- 2/9 [scipy]\n",
      "   -------- ------------------------------- 2/9 [scipy]\n",
      "   -------- ------------------------------- 2/9 [scipy]\n",
      "   -------- ------------------------------- 2/9 [scipy]\n",
      "   -------- ------------------------------- 2/9 [scipy]\n",
      "   -------- ------------------------------- 2/9 [scipy]\n",
      "   -------- ------------------------------- 2/9 [scipy]\n",
      "   -------- ------------------------------- 2/9 [scipy]\n",
      "   -------- ------------------------------- 2/9 [scipy]\n",
      "   -------- ------------------------------- 2/9 [scipy]\n",
      "   -------- ------------------------------- 2/9 [scipy]\n",
      "   -------- ------------------------------- 2/9 [scipy]\n",
      "   -------- ------------------------------- 2/9 [scipy]\n",
      "   -------- ------------------------------- 2/9 [scipy]\n",
      "   -------- ------------------------------- 2/9 [scipy]\n",
      "   -------- ------------------------------- 2/9 [scipy]\n",
      "   -------- ------------------------------- 2/9 [scipy]\n",
      "   -------- ------------------------------- 2/9 [scipy]\n",
      "   -------- ------------------------------- 2/9 [scipy]\n",
      "   -------- ------------------------------- 2/9 [scipy]\n",
      "   -------- ------------------------------- 2/9 [scipy]\n",
      "   -------- ------------------------------- 2/9 [scipy]\n",
      "   -------- ------------------------------- 2/9 [scipy]\n",
      "   -------- ------------------------------- 2/9 [scipy]\n",
      "   ----------------- ---------------------- 4/9 [einops]\n",
      "   -------------------------- ------------- 6/9 [click]\n",
      "   ------------------------------- -------- 7/9 [typer]\n",
      "   ----------------------------------- ---- 8/9 [torchio]\n",
      "   ----------------------------------- ---- 8/9 [torchio]\n",
      "   ---------------------------------------- 9/9 [torchio]\n",
      "\n",
      "Successfully installed click-8.1.8 deprecated-1.2.18 einops-0.8.1 humanize-4.12.3 scipy-1.15.2 shellingham-1.5.4 simpleitk-2.5.0 torchio-0.20.8 typer-0.15.3\n",
      "Note: you may need to restart the kernel to use updated packages.\n"
     ]
    }
   ],
   "source": [
    "pip install torchio\n"
   ]
  },
  {
   "cell_type": "markdown",
   "metadata": {},
   "source": [
    "Augmentation\n"
   ]
  },
  {
   "cell_type": "code",
   "execution_count": 2,
   "metadata": {},
   "outputs": [
    {
     "name": "stderr",
     "output_type": "stream",
     "text": [
      "c:\\Users\\OMEN\\Desktop\\MRI_Synthesis_Project\\MRI_SYNTHESIS_PROJECT\\gpu_env\\Lib\\site-packages\\tqdm\\auto.py:21: TqdmWarning: IProgress not found. Please update jupyter and ipywidgets. See https://ipywidgets.readthedocs.io/en/stable/user_install.html\n",
      "  from .autonotebook import tqdm as notebook_tqdm\n"
     ]
    }
   ],
   "source": [
    "import torchio as tio\n",
    "\n",
    "# TorchIO Transform Pipeline\n",
    "transform = tio.Compose([\n",
    "    tio.RandomFlip(axes=(0, 1, 2), flip_probability=0.5),         # Random flip on all axes\n",
    "    tio.RandomAffine(scales=(0.9, 1.1), degrees=10, translation=5),  # Small rotation, scaling, shift\n",
    "    tio.RandomNoise(mean=0, std=0.1),                             # Add Gaussian noise\n",
    "    tio.RandomBiasField(coefficients=0.5),                        # MRI-specific artifact\n",
    "    tio.RandomGamma(log_gamma=(-0.3, 0.3)),                       # Gamma contrast adjustment\n",
    "])\n"
   ]
  },
  {
   "cell_type": "code",
   "execution_count": 1,
   "metadata": {},
   "outputs": [
    {
     "name": "stdout",
     "output_type": "stream",
     "text": [
      "Requirement already satisfied: torchio in c:\\users\\omen\\desktop\\mri_synthesis_project\\mri_synthesis_project\\gpu_env\\lib\\site-packages (0.20.8)\n",
      "Requirement already satisfied: deprecated>=1.2 in c:\\users\\omen\\desktop\\mri_synthesis_project\\mri_synthesis_project\\gpu_env\\lib\\site-packages (from torchio) (1.2.18)\n",
      "Requirement already satisfied: einops>=0.3 in c:\\users\\omen\\desktop\\mri_synthesis_project\\mri_synthesis_project\\gpu_env\\lib\\site-packages (from torchio) (0.8.1)\n",
      "Requirement already satisfied: humanize>=0.1 in c:\\users\\omen\\desktop\\mri_synthesis_project\\mri_synthesis_project\\gpu_env\\lib\\site-packages (from torchio) (4.12.3)\n",
      "Requirement already satisfied: nibabel>=3 in c:\\users\\omen\\desktop\\mri_synthesis_project\\mri_synthesis_project\\gpu_env\\lib\\site-packages (from torchio) (5.3.2)\n",
      "Requirement already satisfied: numpy>=1.20 in c:\\users\\omen\\desktop\\mri_synthesis_project\\mri_synthesis_project\\gpu_env\\lib\\site-packages (from torchio) (2.1.3)\n",
      "Requirement already satisfied: packaging>=20 in c:\\users\\omen\\desktop\\mri_synthesis_project\\mri_synthesis_project\\gpu_env\\lib\\site-packages (from torchio) (25.0)\n",
      "Requirement already satisfied: rich>=10 in c:\\users\\omen\\desktop\\mri_synthesis_project\\mri_synthesis_project\\gpu_env\\lib\\site-packages (from torchio) (14.0.0)\n",
      "Requirement already satisfied: scipy>=1.7 in c:\\users\\omen\\desktop\\mri_synthesis_project\\mri_synthesis_project\\gpu_env\\lib\\site-packages (from torchio) (1.15.2)\n",
      "Requirement already satisfied: simpleitk!=2.0.*,!=2.1.1.1,>=1.3 in c:\\users\\omen\\desktop\\mri_synthesis_project\\mri_synthesis_project\\gpu_env\\lib\\site-packages (from torchio) (2.5.0)\n",
      "Requirement already satisfied: torch>=1.9 in c:\\users\\omen\\desktop\\mri_synthesis_project\\mri_synthesis_project\\gpu_env\\lib\\site-packages (from torchio) (2.7.0+cu118)\n",
      "Requirement already satisfied: tqdm>=4.40 in c:\\users\\omen\\desktop\\mri_synthesis_project\\mri_synthesis_project\\gpu_env\\lib\\site-packages (from torchio) (4.67.1)\n",
      "Requirement already satisfied: typer>=0.1 in c:\\users\\omen\\desktop\\mri_synthesis_project\\mri_synthesis_project\\gpu_env\\lib\\site-packages (from torchio) (0.15.3)\n",
      "Requirement already satisfied: wrapt<2,>=1.10 in c:\\users\\omen\\desktop\\mri_synthesis_project\\mri_synthesis_project\\gpu_env\\lib\\site-packages (from deprecated>=1.2->torchio) (1.17.2)\n",
      "Requirement already satisfied: typing-extensions>=4.6 in c:\\users\\omen\\desktop\\mri_synthesis_project\\mri_synthesis_project\\gpu_env\\lib\\site-packages (from nibabel>=3->torchio) (4.13.2)\n",
      "Requirement already satisfied: markdown-it-py>=2.2.0 in c:\\users\\omen\\desktop\\mri_synthesis_project\\mri_synthesis_project\\gpu_env\\lib\\site-packages (from rich>=10->torchio) (3.0.0)\n",
      "Requirement already satisfied: pygments<3.0.0,>=2.13.0 in c:\\users\\omen\\desktop\\mri_synthesis_project\\mri_synthesis_project\\gpu_env\\lib\\site-packages (from rich>=10->torchio) (2.19.1)\n",
      "Requirement already satisfied: mdurl~=0.1 in c:\\users\\omen\\desktop\\mri_synthesis_project\\mri_synthesis_project\\gpu_env\\lib\\site-packages (from markdown-it-py>=2.2.0->rich>=10->torchio) (0.1.2)\n",
      "Requirement already satisfied: filelock in c:\\users\\omen\\desktop\\mri_synthesis_project\\mri_synthesis_project\\gpu_env\\lib\\site-packages (from torch>=1.9->torchio) (3.18.0)\n",
      "Requirement already satisfied: sympy>=1.13.3 in c:\\users\\omen\\desktop\\mri_synthesis_project\\mri_synthesis_project\\gpu_env\\lib\\site-packages (from torch>=1.9->torchio) (1.14.0)\n",
      "Requirement already satisfied: networkx in c:\\users\\omen\\desktop\\mri_synthesis_project\\mri_synthesis_project\\gpu_env\\lib\\site-packages (from torch>=1.9->torchio) (3.4.2)\n",
      "Requirement already satisfied: jinja2 in c:\\users\\omen\\desktop\\mri_synthesis_project\\mri_synthesis_project\\gpu_env\\lib\\site-packages (from torch>=1.9->torchio) (3.1.6)\n",
      "Requirement already satisfied: fsspec in c:\\users\\omen\\desktop\\mri_synthesis_project\\mri_synthesis_project\\gpu_env\\lib\\site-packages (from torch>=1.9->torchio) (2025.3.2)\n",
      "Requirement already satisfied: setuptools in c:\\users\\omen\\desktop\\mri_synthesis_project\\mri_synthesis_project\\gpu_env\\lib\\site-packages (from torch>=1.9->torchio) (80.3.0)\n",
      "Requirement already satisfied: mpmath<1.4,>=1.1.0 in c:\\users\\omen\\desktop\\mri_synthesis_project\\mri_synthesis_project\\gpu_env\\lib\\site-packages (from sympy>=1.13.3->torch>=1.9->torchio) (1.3.0)\n",
      "Requirement already satisfied: colorama in c:\\users\\omen\\desktop\\mri_synthesis_project\\mri_synthesis_project\\gpu_env\\lib\\site-packages (from tqdm>=4.40->torchio) (0.4.6)\n",
      "Requirement already satisfied: click>=8.0.0 in c:\\users\\omen\\desktop\\mri_synthesis_project\\mri_synthesis_project\\gpu_env\\lib\\site-packages (from typer>=0.1->torchio) (8.1.8)\n",
      "Requirement already satisfied: shellingham>=1.3.0 in c:\\users\\omen\\desktop\\mri_synthesis_project\\mri_synthesis_project\\gpu_env\\lib\\site-packages (from typer>=0.1->torchio) (1.5.4)\n",
      "Requirement already satisfied: MarkupSafe>=2.0 in c:\\users\\omen\\desktop\\mri_synthesis_project\\mri_synthesis_project\\gpu_env\\lib\\site-packages (from jinja2->torch>=1.9->torchio) (3.0.2)\n"
     ]
    }
   ],
   "source": [
    "!pip install torchio"
   ]
  },
  {
   "cell_type": "code",
   "execution_count": 2,
   "metadata": {},
   "outputs": [
    {
     "name": "stderr",
     "output_type": "stream",
     "text": [
      "c:\\Users\\OMEN\\Desktop\\MRI_Synthesis_Project\\MRI_SYNTHESIS_PROJECT\\gpu_env\\Lib\\site-packages\\tqdm\\auto.py:21: TqdmWarning: IProgress not found. Please update jupyter and ipywidgets. See https://ipywidgets.readthedocs.io/en/stable/user_install.html\n",
      "  from .autonotebook import tqdm as notebook_tqdm\n"
     ]
    }
   ],
   "source": [
    "import os\n",
    "import numpy as np\n",
    "import nibabel as nib\n",
    "import torch\n",
    "from torch.utils.data import Dataset, DataLoader\n",
    "import torchio as tio\n",
    "\n",
    "# TorchIO Transform Pipeline\n",
    "transform = tio.Compose([\n",
    "    tio.RandomFlip(axes=(0, 1, 2), flip_probability=0.5),         # Random flip on all axes\n",
    "    tio.RandomAffine(scales=(0.9, 1.1), degrees=10, translation=5),  # Small rotation, scaling, shift\n",
    "    tio.RandomNoise(mean=0, std=0.1),                             # Add Gaussian noise\n",
    "    tio.RandomBiasField(coefficients=0.5),                        # MRI-specific artifact\n",
    "    tio.RandomGamma(log_gamma=(-0.3, 0.3)),                       # Gamma contrast adjustment\n",
    "])\n",
    "\n",
    "\n",
    "class MRIDataset(Dataset):\n",
    "    def __init__(self, pre_paths, ce_paths, seg_paths, transform=None):\n",
    "        self.pre_paths = pre_paths\n",
    "        self.ce_paths = ce_paths\n",
    "        self.seg_paths = seg_paths\n",
    "        self.transform = transform\n",
    "\n",
    "    def __len__(self):\n",
    "        return len(self.pre_paths)\n",
    "\n",
    "    def __getitem__(self, idx):\n",
    "        pre = nib.load(self.pre_paths[idx]).get_fdata().astype(np.float32)\n",
    "        ce = nib.load(self.ce_paths[idx]).get_fdata().astype(np.float32)\n",
    "        seg = nib.load(self.seg_paths[idx]).get_fdata().astype(np.float32)\n",
    "\n",
    "        # Normalize volumes\n",
    "        pre = (pre - pre.min()) / (pre.max() - pre.min() + 1e-8)\n",
    "        ce = (ce - ce.min()) / (ce.max() - ce.min() + 1e-8)\n",
    "\n",
    "        # Add channel dimension\n",
    "        pre = np.expand_dims(pre, axis=0)\n",
    "        ce = np.expand_dims(ce, axis=0)\n",
    "        seg = np.expand_dims(seg, axis=0)\n",
    "\n",
    "        subject = tio.Subject(\n",
    "            pre=tio.ScalarImage(tensor=pre),\n",
    "            ce=tio.ScalarImage(tensor=ce),\n",
    "            seg=tio.LabelMap(tensor=seg)\n",
    "        )\n",
    "\n",
    "        if self.transform:\n",
    "            subject = self.transform(subject)\n",
    "\n",
    "        pre = subject['pre'].data\n",
    "        ce = subject['ce'].data\n",
    "        seg = subject['seg'].data\n",
    "\n",
    "        return pre, ce, seg\n"
   ]
  },
  {
   "cell_type": "code",
   "execution_count": 3,
   "metadata": {},
   "outputs": [
    {
     "name": "stdout",
     "output_type": "stream",
     "text": [
      "c:\\Users\\OMEN\\Desktop\\MRI_Synthesis_Project\\MRI_SYNTHESIS_PROJECT\\gpu_env\\Scripts\\python.exe\n"
     ]
    }
   ],
   "source": [
    "import sys\n",
    "print(sys.executable)\n"
   ]
  },
  {
   "cell_type": "code",
   "execution_count": null,
   "metadata": {},
   "outputs": [],
   "source": []
  }
 ],
 "metadata": {
  "kernelspec": {
   "display_name": "gpu_env",
   "language": "python",
   "name": "python3"
  },
  "language_info": {
   "codemirror_mode": {
    "name": "ipython",
    "version": 3
   },
   "file_extension": ".py",
   "mimetype": "text/x-python",
   "name": "python",
   "nbconvert_exporter": "python",
   "pygments_lexer": "ipython3",
   "version": "3.12.7"
  }
 },
 "nbformat": 4,
 "nbformat_minor": 2
}
