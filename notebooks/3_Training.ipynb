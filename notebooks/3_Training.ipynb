{
 "cells": [
  {
   "cell_type": "markdown",
   "id": "6c9055b5",
   "metadata": {},
   "source": [
    "## Step 1: Install & Import Dependencies"
   ]
  },
  {
   "cell_type": "code",
   "execution_count": 2,
   "id": "8e61161d",
   "metadata": {},
   "outputs": [],
   "source": [
    "import os\n",
    "import torch\n",
    "import nibabel as nib\n",
    "import numpy as np\n",
    "from torch.utils.data import Dataset, DataLoader\n",
    "import torch.nn as nn\n",
    "import torch.nn.functional as F\n",
    "import matplotlib.pyplot as plt\n",
    "from tqdm import tqdm"
   ]
  },
  {
   "cell_type": "markdown",
   "id": "4f6acebf",
   "metadata": {},
   "source": [
    "## Step 2: Create a 3D MRI Dataset Class"
   ]
  },
  {
   "cell_type": "code",
   "execution_count": 3,
   "id": "aef3549a",
   "metadata": {},
   "outputs": [],
   "source": [
    "\n",
    "class MRISegmentationDataset(Dataset):\n",
    "    def __init__(self, root_dir):\n",
    "        self.samples = []\n",
    "        self.root_dir = root_dir\n",
    "        self._load_dataset()\n",
    "\n",
    "    def _load_dataset(self):\n",
    "        subjects = os.listdir(self.root_dir)\n",
    "        for subject in subjects:\n",
    "            subject_path = os.path.join(self.root_dir, subject)\n",
    "            ce_path = os.path.join(subject_path, 'CeT1')\n",
    "            seg_path = os.path.join(subject_path, 'Segmentation')\n",
    "\n",
    "            # Skip if folders don't exist\n",
    "            if not os.path.isdir(ce_path) or not os.path.isdir(seg_path):\n",
    "                print(f\"[WARNING] Missing CeT1 or Segmentation folder for subject: {subject}\")\n",
    "                continue\n",
    "\n",
    "            ce_files = [f for f in os.listdir(ce_path) if f.endswith('.nii.gz')]\n",
    "            seg_files = [f for f in os.listdir(seg_path) if f.endswith('.nii.gz')]\n",
    "\n",
    "            for ce_file, seg_file in zip(sorted(ce_files), sorted(seg_files)):\n",
    "                ce_full_path = os.path.join(ce_path, ce_file)\n",
    "                seg_full_path = os.path.join(seg_path, seg_file)\n",
    "\n",
    "                if os.path.exists(ce_full_path) and os.path.exists(seg_full_path):\n",
    "                    self.samples.append((ce_full_path, seg_full_path))\n",
    "                else:\n",
    "                    print(f\"[WARNING] Missing file pair: {ce_full_path}, {seg_full_path}\")\n",
    "\n",
    "    def __len__(self):\n",
    "        return len(self.samples)\n",
    "\n",
    "    def __getitem__(self, idx):\n",
    "        ce_path, seg_path = self.samples[idx]\n",
    "        ce_img = nib.load(ce_path).get_fdata()\n",
    "        seg_img = nib.load(seg_path).get_fdata()\n",
    "\n",
    "        ce_tensor = torch.tensor(ce_img, dtype=torch.float32).unsqueeze(0)\n",
    "        seg_tensor = torch.tensor(seg_img, dtype=torch.float32).unsqueeze(0)\n",
    "\n",
    "        return ce_tensor, seg_tensor\n"
   ]
  },
  {
   "cell_type": "markdown",
   "id": "f5e2634b",
   "metadata": {},
   "source": [
    "## Step 3: Simple 3D U-Net Model"
   ]
  },
  {
   "cell_type": "code",
   "execution_count": 4,
   "id": "7373600e",
   "metadata": {},
   "outputs": [
    {
     "data": {
      "text/plain": [
       "'class UNet3D(nn.Module):\\n    def __init__(self, in_channels=1, out_channels=1):\\n        super(UNet3D, self).__init__()\\n        self.enc1 = nn.Sequential(\\n            nn.Conv3d(in_channels, 16, 3, padding=1),\\n            nn.ReLU(),\\n            nn.Conv3d(16, 16, 3, padding=1),\\n            nn.ReLU()\\n        )\\n        self.pool1 = nn.MaxPool3d(2)\\n\\n        self.enc2 = nn.Sequential(\\n            nn.Conv3d(16, 32, 3, padding=1),\\n            nn.ReLU(),\\n            nn.Conv3d(32, 32, 3, padding=1),\\n            nn.ReLU()\\n        )\\n        self.pool2 = nn.MaxPool3d(2)\\n\\n        self.bottleneck = nn.Sequential(\\n            nn.Conv3d(32, 64, 3, padding=1),\\n            nn.ReLU(),\\n            nn.Conv3d(64, 64, 3, padding=1),\\n            nn.ReLU()\\n        )\\n\\n        self.up2 = nn.ConvTranspose3d(64, 32, 2, stride=2)\\n        self.dec2 = nn.Sequential(\\n            nn.Conv3d(64, 32, 3, padding=1),\\n            nn.ReLU(),\\n            nn.Conv3d(32, 32, 3, padding=1),\\n            nn.ReLU()\\n        )\\n\\n        self.up1 = nn.ConvTranspose3d(32, 16, 2, stride=2)\\n        self.dec1 = nn.Sequential(\\n            nn.Conv3d(32, 16, 3, padding=1),\\n            nn.ReLU(),\\n            nn.Conv3d(16, 16, 3, padding=1),\\n            nn.ReLU()\\n        )\\n\\n        self.out = nn.Conv3d(16, out_channels, 1)\\n\\n    def forward(self, x):\\n        e1 = self.enc1(x)\\n        e2 = self.enc2(self.pool1(e1))\\n        b = self.bottleneck(self.pool2(e2))\\n        d2 = self.dec2(torch.cat([self.up2(b), e2], dim=1))\\n        d1 = self.dec1(torch.cat([self.up1(d2), e1], dim=1))\\n        return torch.sigmoid(self.out(d1))'"
      ]
     },
     "execution_count": 4,
     "metadata": {},
     "output_type": "execute_result"
    }
   ],
   "source": [
    "\n",
    "# 1st Model\n",
    "\"\"\"class UNet3D(nn.Module):\n",
    "    def __init__(self, in_channels=1, out_channels=1):\n",
    "        super(UNet3D, self).__init__()\n",
    "        self.enc1 = nn.Sequential(\n",
    "            nn.Conv3d(in_channels, 16, 3, padding=1),\n",
    "            nn.ReLU(),\n",
    "            nn.Conv3d(16, 16, 3, padding=1),\n",
    "            nn.ReLU()\n",
    "        )\n",
    "        self.pool1 = nn.MaxPool3d(2)\n",
    "\n",
    "        self.enc2 = nn.Sequential(\n",
    "            nn.Conv3d(16, 32, 3, padding=1),\n",
    "            nn.ReLU(),\n",
    "            nn.Conv3d(32, 32, 3, padding=1),\n",
    "            nn.ReLU()\n",
    "        )\n",
    "        self.pool2 = nn.MaxPool3d(2)\n",
    "\n",
    "        self.bottleneck = nn.Sequential(\n",
    "            nn.Conv3d(32, 64, 3, padding=1),\n",
    "            nn.ReLU(),\n",
    "            nn.Conv3d(64, 64, 3, padding=1),\n",
    "            nn.ReLU()\n",
    "        )\n",
    "\n",
    "        self.up2 = nn.ConvTranspose3d(64, 32, 2, stride=2)\n",
    "        self.dec2 = nn.Sequential(\n",
    "            nn.Conv3d(64, 32, 3, padding=1),\n",
    "            nn.ReLU(),\n",
    "            nn.Conv3d(32, 32, 3, padding=1),\n",
    "            nn.ReLU()\n",
    "        )\n",
    "\n",
    "        self.up1 = nn.ConvTranspose3d(32, 16, 2, stride=2)\n",
    "        self.dec1 = nn.Sequential(\n",
    "            nn.Conv3d(32, 16, 3, padding=1),\n",
    "            nn.ReLU(),\n",
    "            nn.Conv3d(16, 16, 3, padding=1),\n",
    "            nn.ReLU()\n",
    "        )\n",
    "\n",
    "        self.out = nn.Conv3d(16, out_channels, 1)\n",
    "\n",
    "    def forward(self, x):\n",
    "        e1 = self.enc1(x)\n",
    "        e2 = self.enc2(self.pool1(e1))\n",
    "        b = self.bottleneck(self.pool2(e2))\n",
    "        d2 = self.dec2(torch.cat([self.up2(b), e2], dim=1))\n",
    "        d1 = self.dec1(torch.cat([self.up1(d2), e1], dim=1))\n",
    "        return torch.sigmoid(self.out(d1))\"\"\"\n"
   ]
  },
  {
   "cell_type": "code",
   "execution_count": 5,
   "id": "cbdd0e9a",
   "metadata": {},
   "outputs": [],
   "source": [
    "#Claude code\n",
    "# 2nd Model\n",
    "class UNet3D(nn.Module):\n",
    "    def __init__(self, in_channels=1, out_channels=1):\n",
    "        super().__init__()  # Simplified super() call\n",
    "        # Use nn.ModuleList for systematic access to encoder/decoder blocks\n",
    "        self.encoders = nn.ModuleList([\n",
    "            self._make_encoder_block(in_channels, 16),\n",
    "            self._make_encoder_block(16, 32)\n",
    "        ])\n",
    "        \n",
    "        self.pools = nn.ModuleList([nn.MaxPool3d(2) for _ in range(2)])\n",
    "        \n",
    "        self.bottleneck = self._make_conv_block(32, 64)\n",
    "        \n",
    "        # Store upsampling layers in ModuleList\n",
    "        self.upsamples = nn.ModuleList([\n",
    "            nn.ConvTranspose3d(64, 32, 2, stride=2),\n",
    "            nn.ConvTranspose3d(32, 16, 2, stride=2)\n",
    "        ])\n",
    "        \n",
    "        self.decoders = nn.ModuleList([\n",
    "            self._make_decoder_block(64, 32),\n",
    "            self._make_decoder_block(32, 16)\n",
    "        ])\n",
    "        \n",
    "        # Separate output layer with optional normalization\n",
    "        self.out = nn.Sequential(\n",
    "            nn.Conv3d(16, out_channels, 1),\n",
    "            nn.Sigmoid()\n",
    "        )\n",
    "    \n",
    "    def _make_conv_block(self, in_channels, out_channels):\n",
    "        \"\"\"Create a convolutional block with inplace ReLU for better memory efficiency\"\"\"\n",
    "        return nn.Sequential(\n",
    "            nn.Conv3d(in_channels, out_channels, 3, padding=1, bias=False),  # Remove bias when using BatchNorm\n",
    "            nn.ReLU(inplace=True),  # Use inplace ReLU to save memory\n",
    "            nn.Conv3d(out_channels, out_channels, 3, padding=1, bias=False),\n",
    "            nn.ReLU(inplace=True)\n",
    "        )\n",
    "    \n",
    "    def _make_encoder_block(self, in_channels, out_channels):\n",
    "        \"\"\"Create an encoder block\"\"\"\n",
    "        return self._make_conv_block(in_channels, out_channels)\n",
    "    \n",
    "    def _make_decoder_block(self, in_channels, out_channels):\n",
    "        \"\"\"Create a decoder block\"\"\"\n",
    "        return self._make_conv_block(in_channels, out_channels)\n",
    "    \n",
    "    def forward(self, x):\n",
    "        # Store encoder outputs for skip connections\n",
    "        encoder_outputs = []\n",
    "        \n",
    "        # Encoder path\n",
    "        for i, (encoder, pool) in enumerate(zip(self.encoders, self.pools)):\n",
    "            x = encoder(x)\n",
    "            encoder_outputs.append(x)\n",
    "            x = pool(x)\n",
    "        \n",
    "        # Bottleneck\n",
    "        x = self.bottleneck(x)\n",
    "        \n",
    "        # Decoder path with skip connections\n",
    "        for i, (upsample, decoder) in enumerate(zip(self.upsamples, self.decoders)):\n",
    "            x = upsample(x)\n",
    "            # Use encoder outputs in reverse order for skip connections\n",
    "            skip_connection = encoder_outputs[-(i+1)]\n",
    "            x = torch.cat([x, skip_connection], dim=1)\n",
    "            x = decoder(x)\n",
    "            \n",
    "        return self.out(x)"
   ]
  },
  {
   "cell_type": "markdown",
   "id": "2519e040",
   "metadata": {},
   "source": [
    "## Step 4: Train Loop"
   ]
  },
  {
   "cell_type": "code",
   "execution_count": null,
   "id": "1cc11624",
   "metadata": {},
   "outputs": [
    {
     "name": "stdout",
     "output_type": "stream",
     "text": [
      "[WARNING] Missing CeT1 or Segmentation folder for subject: ISPY1_1007\n",
      "[WARNING] Missing CeT1 or Segmentation folder for subject: ISPY1_1027\n",
      "[WARNING] Missing CeT1 or Segmentation folder for subject: ISPY1_1028\n",
      "[WARNING] Missing CeT1 or Segmentation folder for subject: ISPY1_1033\n",
      "[WARNING] Missing CeT1 or Segmentation folder for subject: ISPY1_1035\n",
      "[WARNING] Missing CeT1 or Segmentation folder for subject: ISPY1_1040\n",
      "[WARNING] Missing CeT1 or Segmentation folder for subject: ISPY1_1048\n",
      "[WARNING] Missing CeT1 or Segmentation folder for subject: ISPY1_1053\n",
      "[WARNING] Missing CeT1 or Segmentation folder for subject: ISPY1_1054\n",
      "[WARNING] Missing CeT1 or Segmentation folder for subject: ISPY1_1057\n",
      "[WARNING] Missing CeT1 or Segmentation folder for subject: ISPY1_1060\n",
      "[WARNING] Missing CeT1 or Segmentation folder for subject: ISPY1_1065\n"
     ]
    },
    {
     "name": "stderr",
     "output_type": "stream",
     "text": [
      "100%|██████████| 173/173 [01:05<00:00,  2.66it/s]\n"
     ]
    },
    {
     "name": "stdout",
     "output_type": "stream",
     "text": [
      "Epoch 1, Train Dice Loss: -53.9379\n"
     ]
    },
    {
     "name": "stderr",
     "output_type": "stream",
     "text": [
      "100%|██████████| 173/173 [01:07<00:00,  2.55it/s]\n"
     ]
    },
    {
     "name": "stdout",
     "output_type": "stream",
     "text": [
      "Epoch 2, Train Dice Loss: 7.9785\n"
     ]
    },
    {
     "name": "stderr",
     "output_type": "stream",
     "text": [
      "100%|██████████| 173/173 [01:09<00:00,  2.49it/s]\n"
     ]
    },
    {
     "name": "stdout",
     "output_type": "stream",
     "text": [
      "Epoch 3, Train Dice Loss: 10.7131\n"
     ]
    },
    {
     "name": "stderr",
     "output_type": "stream",
     "text": [
      "100%|██████████| 173/173 [01:10<00:00,  2.47it/s]\n"
     ]
    },
    {
     "name": "stdout",
     "output_type": "stream",
     "text": [
      "Epoch 4, Train Dice Loss: 7.6450\n"
     ]
    },
    {
     "name": "stderr",
     "output_type": "stream",
     "text": [
      "100%|██████████| 173/173 [01:10<00:00,  2.46it/s]\n"
     ]
    },
    {
     "name": "stdout",
     "output_type": "stream",
     "text": [
      "Epoch 5, Train Dice Loss: 6.0193\n"
     ]
    },
    {
     "name": "stderr",
     "output_type": "stream",
     "text": [
      "100%|██████████| 173/173 [01:10<00:00,  2.46it/s]\n"
     ]
    },
    {
     "name": "stdout",
     "output_type": "stream",
     "text": [
      "Epoch 6, Train Dice Loss: 5.2531\n"
     ]
    },
    {
     "name": "stderr",
     "output_type": "stream",
     "text": [
      "100%|██████████| 173/173 [01:10<00:00,  2.46it/s]\n"
     ]
    },
    {
     "name": "stdout",
     "output_type": "stream",
     "text": [
      "Epoch 7, Train Dice Loss: 4.7281\n"
     ]
    },
    {
     "name": "stderr",
     "output_type": "stream",
     "text": [
      "100%|██████████| 173/173 [01:10<00:00,  2.46it/s]\n"
     ]
    },
    {
     "name": "stdout",
     "output_type": "stream",
     "text": [
      "Epoch 8, Train Dice Loss: 4.3391\n"
     ]
    },
    {
     "name": "stderr",
     "output_type": "stream",
     "text": [
      "100%|██████████| 173/173 [01:10<00:00,  2.45it/s]\n"
     ]
    },
    {
     "name": "stdout",
     "output_type": "stream",
     "text": [
      "Epoch 9, Train Dice Loss: 4.0294\n"
     ]
    },
    {
     "name": "stderr",
     "output_type": "stream",
     "text": [
      "100%|██████████| 173/173 [01:10<00:00,  2.45it/s]\n"
     ]
    },
    {
     "name": "stdout",
     "output_type": "stream",
     "text": [
      "Epoch 10, Train Dice Loss: 3.7828\n"
     ]
    },
    {
     "name": "stderr",
     "output_type": "stream",
     "text": [
      "100%|██████████| 173/173 [01:10<00:00,  2.45it/s]\n"
     ]
    },
    {
     "name": "stdout",
     "output_type": "stream",
     "text": [
      "Epoch 11, Train Dice Loss: 3.5794\n"
     ]
    },
    {
     "name": "stderr",
     "output_type": "stream",
     "text": [
      "100%|██████████| 173/173 [01:10<00:00,  2.45it/s]\n"
     ]
    },
    {
     "name": "stdout",
     "output_type": "stream",
     "text": [
      "Epoch 12, Train Dice Loss: 3.4111\n"
     ]
    },
    {
     "name": "stderr",
     "output_type": "stream",
     "text": [
      "100%|██████████| 173/173 [01:10<00:00,  2.45it/s]\n"
     ]
    },
    {
     "name": "stdout",
     "output_type": "stream",
     "text": [
      "Epoch 13, Train Dice Loss: 3.2710\n"
     ]
    },
    {
     "name": "stderr",
     "output_type": "stream",
     "text": [
      "100%|██████████| 173/173 [01:10<00:00,  2.44it/s]\n"
     ]
    },
    {
     "name": "stdout",
     "output_type": "stream",
     "text": [
      "Epoch 14, Train Dice Loss: 3.1554\n"
     ]
    },
    {
     "name": "stderr",
     "output_type": "stream",
     "text": [
      "100%|██████████| 173/173 [01:10<00:00,  2.44it/s]\n"
     ]
    },
    {
     "name": "stdout",
     "output_type": "stream",
     "text": [
      "Epoch 15, Train Dice Loss: 3.0605\n"
     ]
    },
    {
     "name": "stderr",
     "output_type": "stream",
     "text": [
      "100%|██████████| 173/173 [01:11<00:00,  2.42it/s]\n"
     ]
    },
    {
     "name": "stdout",
     "output_type": "stream",
     "text": [
      "Epoch 16, Train Dice Loss: 2.9832\n"
     ]
    },
    {
     "name": "stderr",
     "output_type": "stream",
     "text": [
      "100%|██████████| 173/173 [01:14<00:00,  2.33it/s]\n"
     ]
    },
    {
     "name": "stdout",
     "output_type": "stream",
     "text": [
      "Epoch 17, Train Dice Loss: 2.9214\n"
     ]
    },
    {
     "name": "stderr",
     "output_type": "stream",
     "text": [
      "100%|██████████| 173/173 [01:11<00:00,  2.40it/s]\n"
     ]
    },
    {
     "name": "stdout",
     "output_type": "stream",
     "text": [
      "Epoch 18, Train Dice Loss: 2.8722\n"
     ]
    },
    {
     "name": "stderr",
     "output_type": "stream",
     "text": [
      "100%|██████████| 173/173 [01:12<00:00,  2.40it/s]"
     ]
    },
    {
     "name": "stdout",
     "output_type": "stream",
     "text": [
      "Epoch 19, Train Dice Loss: 2.8334\n"
     ]
    },
    {
     "name": "stderr",
     "output_type": "stream",
     "text": [
      "\n"
     ]
    }
   ],
   "source": [
    "# 1st GPT\n",
    "\"\"\"def dice_loss(pred, target, smooth=5e-5):\n",
    "    pred = pred.view(-1)\n",
    "    target = target.view(-1)\n",
    "    intersection = (pred * target).sum()\n",
    "    return 1 - (2. * intersection + smooth) / (pred.sum() + target.sum() + smooth)\n",
    "\n",
    "device = 'cuda' if torch.cuda.is_available() else 'cpu'\n",
    "model = UNet3D().to(device)\n",
    "optimizer = torch.optim.Adam(model.parameters(), lr=5e-5)\n",
    "criterion = dice_loss\n",
    "\n",
    "dataset = MRISegmentationDataset(r'C:\\Users\\OMEN\\Desktop\\MRI_Synthesis_Project\\MRI_SYNTHESIS_PROJECT\\data\\Resized_dataset\\train_resized')\n",
    "loader = DataLoader(dataset, batch_size=1, shuffle=True)\n",
    "\n",
    "for epoch in range(1, 20):\n",
    "    model.train()\n",
    "    total_loss = 0\n",
    "    for ce, seg in tqdm(loader):\n",
    "        ce, seg = ce.to(device), seg.to(device)\n",
    "        pred = model(ce)\n",
    "        loss = criterion(pred, seg)\n",
    "        optimizer.zero_grad()\n",
    "        loss.backward()\n",
    "        optimizer.step()\n",
    "        total_loss += loss.item()\n",
    "    print(f\"Epoch {epoch}, Train Dice Loss: {total_loss/len(loader):.4f}\")\"\"\"\n"
   ]
  },
  {
   "cell_type": "code",
   "execution_count": null,
   "id": "0ea81037",
   "metadata": {},
   "outputs": [
    {
     "name": "stderr",
     "output_type": "stream",
     "text": [
      "C:\\Users\\OMEN\\AppData\\Local\\Temp\\ipykernel_29924\\321635104.py:23: FutureWarning: `torch.cuda.amp.GradScaler(args...)` is deprecated. Please use `torch.amp.GradScaler('cuda', args...)` instead.\n",
      "  scaler = torch.cuda.amp.GradScaler() if device == 'cuda' else None\n"
     ]
    },
    {
     "name": "stdout",
     "output_type": "stream",
     "text": [
      "[WARNING] Missing CeT1 or Segmentation folder for subject: ISPY1_1007\n",
      "[WARNING] Missing CeT1 or Segmentation folder for subject: ISPY1_1027\n",
      "[WARNING] Missing CeT1 or Segmentation folder for subject: ISPY1_1028\n",
      "[WARNING] Missing CeT1 or Segmentation folder for subject: ISPY1_1033\n",
      "[WARNING] Missing CeT1 or Segmentation folder for subject: ISPY1_1035\n",
      "[WARNING] Missing CeT1 or Segmentation folder for subject: ISPY1_1040\n",
      "[WARNING] Missing CeT1 or Segmentation folder for subject: ISPY1_1048\n",
      "[WARNING] Missing CeT1 or Segmentation folder for subject: ISPY1_1053\n",
      "[WARNING] Missing CeT1 or Segmentation folder for subject: ISPY1_1054\n",
      "[WARNING] Missing CeT1 or Segmentation folder for subject: ISPY1_1057\n",
      "[WARNING] Missing CeT1 or Segmentation folder for subject: ISPY1_1060\n",
      "[WARNING] Missing CeT1 or Segmentation folder for subject: ISPY1_1065\n"
     ]
    },
    {
     "name": "stderr",
     "output_type": "stream",
     "text": [
      "Epoch 1:   0%|          | 0/22 [00:00<?, ?batch/s]"
     ]
    },
    {
     "name": "stderr",
     "output_type": "stream",
     "text": [
      "C:\\Users\\OMEN\\AppData\\Local\\Temp\\ipykernel_29924\\321635104.py:35: FutureWarning: `torch.cuda.amp.autocast(args...)` is deprecated. Please use `torch.amp.autocast('cuda', args...)` instead.\n",
      "  with torch.cuda.amp.autocast(enabled=scaler is not None):\n",
      "Epoch 1: 100%|██████████| 22/22 [17:29<00:00, 47.72s/batch, loss=-33.3241] \n"
     ]
    },
    {
     "name": "stdout",
     "output_type": "stream",
     "text": [
      "Epoch 1, Train Dice Loss: -33.3241\n"
     ]
    },
    {
     "name": "stderr",
     "output_type": "stream",
     "text": [
      "Epoch 2: 100%|██████████| 22/22 [08:39<00:00, 23.63s/batch, loss=23.9601]\n"
     ]
    },
    {
     "name": "stdout",
     "output_type": "stream",
     "text": [
      "Epoch 2, Train Dice Loss: 23.9601\n"
     ]
    },
    {
     "name": "stderr",
     "output_type": "stream",
     "text": [
      "Epoch 3: 100%|██████████| 22/22 [08:48<00:00, 24.01s/batch, loss=9.6305]  "
     ]
    },
    {
     "name": "stdout",
     "output_type": "stream",
     "text": [
      "Epoch 3, Train Dice Loss: 9.6305\n"
     ]
    },
    {
     "name": "stderr",
     "output_type": "stream",
     "text": [
      "\n"
     ]
    },
    {
     "data": {
      "image/png": "[encoded data removed]",
      "text/plain": [
       "<Figure size 1000x600 with 1 Axes>"
      ]
     },
     "metadata": {},
     "output_type": "display_data"
    }
   ],
   "source": [
    "import torch\n",
    "import torch.nn as nn\n",
    "from torch.utils.data import Dataset, DataLoader\n",
    "import torch.optim as optim\n",
    "from tqdm import tqdm\n",
    "import matplotlib.pyplot as plt\n",
    "# Assuming UNet3D and MRISegmentationDataset are defined as in your previous context\n",
    "\n",
    "def dice_loss(pred, target, smooth=0.00001):\n",
    "    pred = pred.view(-1)\n",
    "    target = target.view(-1)\n",
    "    intersection = (pred * target).sum()\n",
    "    return 1 - (2. * intersection + smooth) / (pred.sum() + target.sum() + smooth)\n",
    "\n",
    "device = 'cuda' if torch.cuda.is_available() else 'cpu'\n",
    "model = UNet3D().to(device)\n",
    "optimizer = optim.Adam(model.parameters(), lr=0.00005)\n",
    "criterion = dice_loss\n",
    "\n",
    "dataset = MRISegmentationDataset(r'C:\\Users\\OMEN\\Desktop\\MRI_Synthesis_Project\\MRI_SYNTHESIS_PROJECT\\data\\Resized_dataset\\train_resized')\n",
    "loader = DataLoader(dataset, batch_size=8, shuffle=True, pin_memory=True, num_workers=0)\n",
    "\n",
    "scaler = torch.cuda.amp.GradScaler() if device == 'cuda' else None\n",
    "\n",
    "epochs = 3\n",
    "train_losses = []\n",
    "\n",
    "for epoch in range(1, epochs + 1):\n",
    "    model.train()\n",
    "    total_loss = 0\n",
    "    progress_bar = tqdm(loader, desc=f\"Epoch {epoch}\", unit=\"batch\")\n",
    "    for ce, seg in progress_bar:\n",
    "        ce, seg = ce.to(device), seg.to(device)\n",
    "        optimizer.zero_grad()\n",
    "        with torch.cuda.amp.autocast(enabled=scaler is not None):\n",
    "            pred = model(ce)\n",
    "            loss = criterion(pred, seg)\n",
    "\n",
    "        if scaler:\n",
    "            scaler.scale(loss).backward()\n",
    "            scaler.step(optimizer)\n",
    "            scaler.update()\n",
    "        else:\n",
    "            loss.backward()\n",
    "            optimizer.step()\n",
    "\n",
    "        total_loss += loss.item()\n",
    "        progress_bar.set_postfix({\"loss\": f\"{total_loss/(progress_bar.n + 1):.4f}\"})\n",
    "\n",
    "    avg_loss = total_loss / len(loader)\n",
    "    train_losses.append(avg_loss)\n",
    "    print(f\"Epoch {epoch}, Train Dice Loss: {avg_loss:.4f}\")\n",
    "\n",
    "\n",
    "# Save the trained model\n",
    "save_path = \"checkpoints/best_unet3d.pth\"\n",
    "torch.save(model.state_dict(), save_path)\n",
    "print(f\"Model saved to {save_path}\")\n",
    "\n",
    "# Plotting the training loss\n",
    "plt.figure(figsize=(10, 6))\n",
    "plt.plot(range(1, epochs + 1), train_losses, marker='o')\n",
    "plt.title('Training Dice Loss Over Epochs')\n",
    "plt.xlabel('Epoch')\n",
    "plt.ylabel('Dice Loss')\n",
    "plt.grid(True)\n",
    "plt.savefig('training_loss.png') # Save the plot\n",
    "plt.show()"
   ]
  },
  {
   "cell_type": "code",
   "execution_count": 7,
   "id": "65c42f68",
   "metadata": {},
   "outputs": [
    {
     "ename": "SyntaxError",
     "evalue": "(unicode error) 'unicodeescape' codec can't decode bytes in position 1250-1251: truncated \\UXXXXXXXX escape (2597821593.py, line 1)",
     "output_type": "error",
     "traceback": [
      "  \u001b[36mCell\u001b[39m\u001b[36m \u001b[39m\u001b[32mIn[7]\u001b[39m\u001b[32m, line 1\u001b[39m\n\u001b[31m    \u001b[39m\u001b[31m\"\"\" def dice_loss(pred, target, smooth=1e-5):\u001b[39m\n    ^\n\u001b[31mSyntaxError\u001b[39m\u001b[31m:\u001b[39m (unicode error) 'unicodeescape' codec can't decode bytes in position 1250-1251: truncated \\UXXXXXXXX escape\n"
     ]
    }
   ],
   "source": [
    "\"\"\" def dice_loss(pred, target, smooth=1e-5):\n",
    "    # Ensure we're using float32 for numerical stability\n",
    "    pred = pred.contiguous().view(-1)\n",
    "    target = target.contiguous().view(-1)\n",
    "    \n",
    "    # Use more efficient operations\n",
    "    intersection = torch.sum(pred * target)\n",
    "    total = torch.sum(pred) + torch.sum(target)\n",
    "    \n",
    "    # Return scalar directly\n",
    "    return 1.0 - (2.0 * intersection + smooth) / (total + smooth)\n",
    "\n",
    "# Set device with mixed precision support check\n",
    "device = torch.device('cuda' if torch.cuda.is_available() else 'cpu')\n",
    "use_amp = torch.cuda.is_available() and hasattr(torch.cuda, 'amp')\n",
    "scaler = torch.cuda.amp.GradScaler() if use_amp else None\n",
    "\n",
    "# Create model with deterministic behavior\n",
    "torch.backends.cudnn.deterministic = True\n",
    "torch.backends.cudnn.benchmark = False\n",
    "model = UNet3D().to(device)\n",
    "\n",
    "# Optimize the optimizer with weight decay\n",
    "optimizer = torch.optim.AdamW(\n",
    "    model.parameters(),\n",
    "    lr=5e-5,\n",
    "    weight_decay=1e-5,\n",
    "    eps=1e-8\n",
    ")\n",
    "\n",
    "# Create learning rate scheduler\n",
    "scheduler = torch.optim.lr_scheduler.ReduceLROnPlateau(\n",
    "    optimizer, \n",
    "    mode='min', \n",
    "    factor=0.5, \n",
    "    patience=2\n",
    ")\n",
    "\n",
    "# Use function directly\n",
    "criterion = dice_loss\n",
    "\n",
    "# Improved data loading with num_workers and pin_memory\n",
    "dataset = MRISegmentationDataset(r'C:\\Users\\OMEN\\Desktop\\MRI_Synthesis_Project\\MRI_SYNTHESIS_PROJECT\\data\\Resized_dataset\\train_resized')\n",
    "loader = DataLoader(\n",
    "    dataset, \n",
    "    batch_size=1, \n",
    "    shuffle=True,\n",
    "    num_workers=8,\n",
    "    pin_memory=True,\n",
    "    persistent_workers=True\n",
    ")\n",
    "\n",
    "# Create output directory for model checkpoints if it doesn't exist\n",
    "import os\n",
    "checkpoint_dir = os.path.join('checkpoints', 'unet3d')\n",
    "os.makedirs(checkpoint_dir, exist_ok=True)\n",
    "\n",
    "# Define validation function\n",
    "@torch.no_grad()\n",
    "def validate(model, val_loader, criterion, device):\n",
    "    model.eval()\n",
    "    total_loss = 0\n",
    "    for ce, seg in val_loader:\n",
    "        ce, seg = ce.to(device, non_blocking=True), seg.to(device, non_blocking=True)\n",
    "        with torch.cuda.amp.autocast() if use_amp else nullcontext():\n",
    "            pred = model(ce)\n",
    "            loss = criterion(pred, seg)\n",
    "        total_loss += loss.item()\n",
    "    return total_loss / len(val_loader)\n",
    "\n",
    "# Import necessary packages\n",
    "from contextlib import nullcontext\n",
    "import time\n",
    "\n",
    "# Variables for model saving\n",
    "best_loss = float('inf')\n",
    "patience_counter = 0\n",
    "early_stopping_patience = 5\n",
    "\n",
    "# Training loop with optimizations\n",
    "for epoch in range(1, 6):\n",
    "    model.train()\n",
    "    total_loss = 0\n",
    "    epoch_start_time = time.time()\n",
    "    \n",
    "    with tqdm(loader, desc=f\"Epoch {epoch}/5\") as pbar:\n",
    "        for CeT1, Segmentation in pbar:\n",
    "            # Transfer to device with non-blocking for parallel data transfer\n",
    "            ce = CeT1.to(device, non_blocking=True)\n",
    "            seg = Segmentation.to(device, non_blocking=True)\n",
    "            \n",
    "            # Zero gradients with better memory efficiency\n",
    "            optimizer.zero_grad(set_to_none=True)\n",
    "            \n",
    "            # Use mixed precision if available\n",
    "            with torch.cuda.amp.autocast() if use_amp else nullcontext():\n",
    "                pred = model(ce)\n",
    "                loss = criterion(pred, seg)\n",
    "            \n",
    "            # Backward pass with scale for mixed precision\n",
    "            if use_amp:\n",
    "                scaler.scale(loss).backward()\n",
    "                scaler.step(optimizer)\n",
    "                scaler.update()\n",
    "            else:\n",
    "                loss.backward()\n",
    "                optimizer.step()\n",
    "                \n",
    "            # Update metrics\n",
    "            total_loss += loss.item()\n",
    "            pbar.set_postfix(loss=f\"{loss.item():.4f}\")\n",
    "    \n",
    "    # Calculate average loss\n",
    "    avg_loss = total_loss / len(loader)\n",
    "    epoch_time = time.time() - epoch_start_time\n",
    "    \n",
    "    # Print epoch summary\n",
    "    print(f\"Epoch {epoch}, Train Dice Loss: {avg_loss:.4f}, Time: {epoch_time:.2f}s\")\n",
    "    \n",
    "    # Save model if it's the best so far\n",
    "    if avg_loss < best_loss:\n",
    "        best_loss = avg_loss\n",
    "        patience_counter = 0\n",
    "        \n",
    "        # Save model checkpoint with metadata\n",
    "        checkpoint_path = os.path.join(checkpoint_dir, f'unet3d_best_model_epoch{epoch}.pt')\n",
    "        torch.save({\n",
    "            'epoch': epoch,\n",
    "            'model_state_dict': model.state_dict(),\n",
    "            'optimizer_state_dict': optimizer.state_dict(),\n",
    "            'scheduler_state_dict': scheduler.state_dict() if scheduler else None,\n",
    "            'loss': avg_loss,\n",
    "            'device': device,\n",
    "            'scaler': scaler.state_dict() if scaler else None,\n",
    "        }, checkpoint_path)\n",
    "        \n",
    "        print(f\"✓ Best model saved to {checkpoint_path} (loss: {avg_loss:.4f})\")\n",
    "        \n",
    "        # Also save a smaller file with just the model weights for inference\n",
    "        inference_path = os.path.join(checkpoint_dir, 'unet3d_best_model_weights.pt')\n",
    "        torch.save(model.state_dict(), inference_path)\n",
    "    else:\n",
    "        patience_counter += 1\n",
    "        print(f\"! No improvement for {patience_counter} epochs (best: {best_loss:.4f})\")\n",
    "        \n",
    "        # Save periodic checkpoint regardless of performance\n",
    "        if epoch % 2 == 0:  # Save every 2 epochs\n",
    "            checkpoint_path = os.path.join(checkpoint_dir, f'unet3d_checkpoint_epoch{epoch}.pt')\n",
    "            torch.save({\n",
    "                'epoch': epoch,\n",
    "                'model_state_dict': model.state_dict(),\n",
    "                'optimizer_state_dict': optimizer.state_dict(),\n",
    "                'loss': avg_loss,\n",
    "            }, checkpoint_path)\n",
    "            print(f\"→ Periodic checkpoint saved to {checkpoint_path}\")\n",
    "    \n",
    "    # Update learning rate based on performance\n",
    "    scheduler.step(avg_loss)\n",
    "    \n",
    "    # Early stopping check\n",
    "    if patience_counter >= early_stopping_patience:\n",
    "        print(f\"Early stopping triggered after {patience_counter} epochs without improvement\")\n",
    "        break\n",
    "\n",
    "# Save final model regardless of performance\n",
    "final_path = os.path.join(checkpoint_dir, 'unet3d_final_model.pt')\n",
    "torch.save({\n",
    "    'epoch': epoch,\n",
    "    'model_state_dict': model.state_dict(),\n",
    "    'optimizer_state_dict': optimizer.state_dict(),\n",
    "    'loss': avg_loss,\n",
    "}, final_path)\n",
    "print(f\"▶ Training completed. Final model saved to {final_path}\")\"\"\""
   ]
  },
  {
   "cell_type": "code",
   "execution_count": null,
   "id": "8bb1083b",
   "metadata": {},
   "outputs": [],
   "source": []
  }
 ],
 "metadata": {
  "kernelspec": {
   "display_name": "gpu_env",
   "language": "python",
   "name": "python3"
  },
  "language_info": {
   "codemirror_mode": {
    "name": "ipython",
    "version": 3
   },
   "file_extension": ".py",
   "mimetype": "text/x-python",
   "name": "python",
   "nbconvert_exporter": "python",
   "pygments_lexer": "ipython3",
   "version": "3.12.7"
  }
 },
 "nbformat": 4,
 "nbformat_minor": 5
}
